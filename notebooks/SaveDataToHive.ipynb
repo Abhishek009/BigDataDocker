{
 "cells": [
  {
   "cell_type": "code",
   "execution_count": 1,
   "id": "cbab9500-e778-4dbe-96d4-2c9c88987cf5",
   "metadata": {},
   "outputs": [
    {
     "name": "stdout",
     "output_type": "stream",
     "text": [
      "DataFrame schema:\n",
      "root\n",
      " |-- name: string (nullable = true)\n",
      " |-- age: long (nullable = true)\n",
      " |-- city: string (nullable = true)\n",
      "\n",
      "DataFrame content:\n",
      "+-------+---+--------+\n",
      "|   name|age|    city|\n",
      "+-------+---+--------+\n",
      "|  Alice| 25|New York|\n",
      "|    Bob| 30|  London|\n",
      "|Charlie| 35|   Paris|\n",
      "+-------+---+--------+\n",
      "\n",
      "Data has been successfully written to Hive table 'people_table'.\n"
     ]
    }
   ],
   "source": [
    "from pyspark.sql import SparkSession\n",
    "\n",
    "spark = SparkSession.builder \\\n",
    "    .appName(\"PySpark-Hive-Integration\") \\\n",
    "    .enableHiveSupport() \\\n",
    "    .getOrCreate()\n",
    "\n",
    "# Create a sample DataFrame\n",
    "data = [(\"Alice\", 25, \"New York\"),\n",
    "        (\"Bob\", 30, \"London\"),\n",
    "        (\"Charlie\", 35, \"Paris\")]\n",
    "columns = [\"name\", \"age\", \"city\"]\n",
    "df = spark.createDataFrame(data, columns)\n",
    "\n",
    "# Print the DataFrame schema and data\n",
    "print(\"DataFrame schema:\")\n",
    "df.printSchema()\n",
    "print(\"DataFrame content:\")\n",
    "df.show()\n",
    "\n",
    "# Write the DataFrame to a Hive table\n",
    "# The `mode(\"overwrite\")` ensures that the table is recreated if it already exists.\n",
    "# The `saveAsTable()` function creates a managed table in Hive.\n",
    "hive_table_name = \"people_table\"\n",
    "df.write.mode(\"overwrite\").saveAsTable(hive_table_name)\n",
    "\n",
    "print(f\"Data has been successfully written to Hive table '{hive_table_name}'.\")\n",
    "spark.stop()"
   ]
  },
  {
   "cell_type": "code",
   "execution_count": null,
   "id": "220c5da5-a3d7-4bbb-adfb-37c950bb962e",
   "metadata": {},
   "outputs": [],
   "source": []
  }
 ],
 "metadata": {
  "kernelspec": {
   "display_name": "Python 3 (ipykernel)",
   "language": "python",
   "name": "python3"
  },
  "language_info": {
   "codemirror_mode": {
    "name": "ipython",
    "version": 3
   },
   "file_extension": ".py",
   "mimetype": "text/x-python",
   "name": "python",
   "nbconvert_exporter": "python",
   "pygments_lexer": "ipython3",
   "version": "3.11.6"
  }
 },
 "nbformat": 4,
 "nbformat_minor": 5
}
