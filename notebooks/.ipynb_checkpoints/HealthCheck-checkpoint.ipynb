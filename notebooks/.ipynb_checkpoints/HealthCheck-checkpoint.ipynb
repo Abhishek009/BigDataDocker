{
 "cells": [
  {
   "cell_type": "code",
   "execution_count": 3,
   "id": "d7618b23-1c41-4da5-bc7d-2c84e566da7a",
   "metadata": {},
   "outputs": [
    {
     "ename": "IndentationError",
     "evalue": "unexpected indent (1541705710.py, line 9)",
     "output_type": "error",
     "traceback": [
      "\u001b[0;36m  Cell \u001b[0;32mIn[3], line 9\u001b[0;36m\u001b[0m\n\u001b[0;31m    .enableHiveSupport() \\\u001b[0m\n\u001b[0m    ^\u001b[0m\n\u001b[0;31mIndentationError\u001b[0m\u001b[0;31m:\u001b[0m unexpected indent\n"
     ]
    }
   ],
   "source": [
    "from pyspark.sql import SparkSession\n",
    "\n",
    "# Step 1: Initialize SparkSession with Hive support\n",
    "spark = SparkSession.builder \\\n",
    "    .appName(\"HealthCheck\") \\\n",
    "    .master(\"spark://spark-master:7077\") \\\n",
    "    .enableHiveSupport() \\\n",
    "    .getOrCreate()\n",
    "\n",
    "# Step 2: Create a test DataFrame\n",
    "df = spark.createDataFrame([\n",
    "    (\"Rahul\", \"Architect\"),\n",
    "    (\"Alice\", \"Engineer\"),\n",
    "    (\"Bob\", \"Analyst\")\n",
    "], [\"name\", \"role\"])\n",
    "\n",
    "# Step 3: Write to Hive table\n",
    "table_name = \"health_check_table\"\n",
    "df.write.mode(\"overwrite\").saveAsTable(table_name)\n",
    "\n",
    "# Step 4: Read back from Hive\n",
    "result = spark.sql(f\"SELECT * FROM {table_name}\")\n",
    "result.show()\n",
    "\n",
    "# Step 5: Clean up (optional)\n",
    "spark.sql(f\"DROP TABLE IF EXISTS {table_name}\")"
   ]
  },
  {
   "cell_type": "code",
   "execution_count": null,
   "id": "00fc7d9e-1a4c-464e-aabe-40253a8bc69a",
   "metadata": {},
   "outputs": [],
   "source": []
  },
  {
   "cell_type": "code",
   "execution_count": null,
   "id": "6ec6ed0d-9ba1-474d-8608-e5ffd2eb5b5a",
   "metadata": {},
   "outputs": [],
   "source": []
  }
 ],
 "metadata": {
  "kernelspec": {
   "display_name": "Python 3 (ipykernel)",
   "language": "python",
   "name": "python3"
  },
  "language_info": {
   "codemirror_mode": {
    "name": "ipython",
    "version": 3
   },
   "file_extension": ".py",
   "mimetype": "text/x-python",
   "name": "python",
   "nbconvert_exporter": "python",
   "pygments_lexer": "ipython3",
   "version": "3.11.6"
  }
 },
 "nbformat": 4,
 "nbformat_minor": 5
}
