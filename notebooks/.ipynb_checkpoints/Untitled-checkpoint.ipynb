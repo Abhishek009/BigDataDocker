{
 "cells": [
  {
   "cell_type": "code",
   "execution_count": 34,
   "id": "a1e6369f-c4c4-4d96-8649-12af80753315",
   "metadata": {},
   "outputs": [
    {
     "name": "stdout",
     "output_type": "stream",
     "text": [
      "Spark Version: 3.5.0\n"
     ]
    }
   ],
   "source": [
    "from pyspark.sql import SparkSession\n",
    "\n",
    "spark = (SparkSession.builder.master(\"yarn\")\n",
    "    .config(\"hive.metastore.uris\", \"thrift://hive-metastore:9083\")\n",
    "    .enableHiveSupport().getOrCreate())\n",
    "print(\"Spark Version:\", spark.version)"
   ]
  },
  {
   "cell_type": "code",
   "execution_count": 35,
   "id": "463d47a7-0349-4bec-bb38-290edb0ac177",
   "metadata": {},
   "outputs": [
    {
     "name": "stdout",
     "output_type": "stream",
     "text": [
      "+---+-----+\n",
      "| ID| Name|\n",
      "+---+-----+\n",
      "|  1|Alice|\n",
      "|  2|  Bob|\n",
      "|  3|Cathy|\n",
      "+---+-----+\n",
      "\n"
     ]
    }
   ],
   "source": [
    "# Data and schema\n",
    "data = [(1, \"Alice\"), (2, \"Bob\"), (3, \"Cathy\")]\n",
    "columns = [\"ID\", \"Name\"]\n",
    "\n",
    "# Create DataFrame\n",
    "df = spark.createDataFrame(data, schema=columns)\n",
    "df.show()"
   ]
  },
  {
   "cell_type": "code",
   "execution_count": 36,
   "id": "570d416b-bbd7-42e0-bf45-822541fd5214",
   "metadata": {},
   "outputs": [
    {
     "name": "stdout",
     "output_type": "stream",
     "text": [
      "/home/jovyan/work/mock_data/sdf_sample_data.csv\n"
     ]
    }
   ],
   "source": [
    "%%sh\n",
    "ls /home/jovyan/work/mock_data/sdf_sample_data.csv"
   ]
  },
  {
   "cell_type": "code",
   "execution_count": 37,
   "id": "39da2239-345c-4eb1-a7bd-557e5aefd32a",
   "metadata": {},
   "outputs": [],
   "source": [
    "df = spark.read.format(\"csv\").option(\"header\",True).load(\"/home/jovyan/work/mock_data/sdf_sample_data.csv\")\n"
   ]
  },
  {
   "cell_type": "code",
   "execution_count": 38,
   "id": "90f3b9ff-1968-4376-a06f-473a43881440",
   "metadata": {},
   "outputs": [
    {
     "name": "stdout",
     "output_type": "stream",
     "text": [
      "root\n",
      " |-- id: string (nullable = true)\n",
      " |-- first_name: string (nullable = true)\n",
      " |-- last_name: string (nullable = true)\n",
      " |-- accountnumber: string (nullable = true)\n",
      " |-- cardnumber: string (nullable = true)\n",
      "\n"
     ]
    }
   ],
   "source": [
    "df.printSchema()"
   ]
  },
  {
   "cell_type": "code",
   "execution_count": 39,
   "id": "9e97c195-b2d2-4c0f-9519-5c36bb760700",
   "metadata": {},
   "outputs": [
    {
     "name": "stdout",
     "output_type": "stream",
     "text": [
      "+---+----------+---------+--------------------+------------------+\n",
      "| id|first_name|last_name|       accountnumber|        cardnumber|\n",
      "+---+----------+---------+--------------------+------------------+\n",
      "|  1|       Mab| Skedgell|mskedgell0@ebay.c...|    30346456155903|\n",
      "|  2|   Ingemar|   Trever|itrever1@photobuc...|  5307128006445819|\n",
      "|  3|  Nicolina|  Hoffman|nhoffman2@omnitur...|677139130397162334|\n",
      "|  4|    Sidnee|   Debell|sdebell3@theatlan...|  5346587605443900|\n",
      "|  5|    Hermia| Tredgold|htredgold4@cbsnew...|  3533232169521555|\n",
      "|  6|      Mina|   Gaspar|    mgaspar5@umn.edu|  3567684140098633|\n",
      "|  7|    Denyse| Echallie|dechallie6@scienc...|  4913242784447845|\n",
      "|  8|   Timoteo|  Gallard|tgallard7@cloudfl...|     4409892879585|\n",
      "|  9|   Laurent|  Roberto|   lroberto8@163.com|676342113473807290|\n",
      "| 10|   Gwyneth| Holligan|gholligan9@forbes...|  3587354474328974|\n",
      "| 11|   Katrine|    Dicty|kdictya@thetimes....|  5559855835692147|\n",
      "| 12|  Frederic|  Ximenez|fximenezb@usnews.com|    30281470749961|\n",
      "| 13|     Elyse|  Siggins|esigginsc@washing...|  3545493010434127|\n",
      "| 14|  Carrissa| O'Lunney|colunneyd@shinyst...|670956743164993015|\n",
      "| 15|     Renie|   Divall| rdivalle@forbes.com|  3567173095665992|\n",
      "| 16|  Theodore|  Abotson|tabotsonf@nature.com|  4405691751492777|\n",
      "| 17|  Odelinda|    Joust|ojoustg@google.co...|   374283060812112|\n",
      "| 18|     Iorgo|   Laurie| ilaurieh@jalbum.net| 50388422756823236|\n",
      "| 19|      Eryn|  Pimlett|     epimletti@ow.ly|  3541261368276091|\n",
      "| 20|    Warden|Ivashnyov|wivashnyovj@googl...|  5602242621766996|\n",
      "+---+----------+---------+--------------------+------------------+\n",
      "only showing top 20 rows\n",
      "\n"
     ]
    }
   ],
   "source": [
    "df.show()"
   ]
  },
  {
   "cell_type": "code",
   "execution_count": 19,
   "id": "2908a06d-7b90-452c-94f4-759c37a7b830",
   "metadata": {},
   "outputs": [],
   "source": [
    "df.write.mode(\"append\").save(\"hdfs://namenode:9000//user/jovyan/data/sample_data\")"
   ]
  },
  {
   "cell_type": "code",
   "execution_count": 41,
   "id": "bdf5dc97-24c5-4e9f-b82b-157d8073a54f",
   "metadata": {},
   "outputs": [],
   "source": [
    "df.write.mode(\"overwrite\").option(\"path\", \"hdfs://namenode:9000/user/jovyan/data/sample_data\").saveAsTable(\"sampledatatest\")"
   ]
  },
  {
   "cell_type": "code",
   "execution_count": null,
   "id": "4da87706-df75-4160-ab5f-c3b82dbf4734",
   "metadata": {},
   "outputs": [],
   "source": []
  }
 ],
 "metadata": {
  "kernelspec": {
   "display_name": "Python 3 (ipykernel)",
   "language": "python",
   "name": "python3"
  },
  "language_info": {
   "codemirror_mode": {
    "name": "ipython",
    "version": 3
   },
   "file_extension": ".py",
   "mimetype": "text/x-python",
   "name": "python",
   "nbconvert_exporter": "python",
   "pygments_lexer": "ipython3",
   "version": "3.11.6"
  }
 },
 "nbformat": 4,
 "nbformat_minor": 5
}
